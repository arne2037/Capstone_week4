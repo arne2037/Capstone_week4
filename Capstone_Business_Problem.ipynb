{
 "cells": [
  {
   "cell_type": "markdown",
   "metadata": {},
   "source": [
    "# Capstone week 4"
   ]
  },
  {
   "cell_type": "markdown",
   "metadata": {},
   "source": [
    "## Introduction and Business Problem"
   ]
  },
  {
   "cell_type": "markdown",
   "metadata": {},
   "source": [
    "### Introduction"
   ]
  },
  {
   "cell_type": "markdown",
   "metadata": {},
   "source": [
    "The future of cities depends among many other things on their capability to attract people that will help shape their future. The population of a city needs to reflect diversity of people that ensures that the city will strive economically, intellectually and socially."
   ]
  },
  {
   "cell_type": "markdown",
   "metadata": {},
   "source": [
    "People with diverse backgrounds, capabilities and ambitions will chose different neighborhoods as preferred place to live. A city that wants to attract people from another city needs to provide neighborhoods with a similar or better quality of life as the neighborhoods of that other city."
   ]
  },
  {
   "cell_type": "markdown",
   "metadata": {},
   "source": [
    "Quality of Life is a vast field and different people will consider different aspects as the most relevant. When asking city residents, why they live in their city and not in cheaper and calmer rural areas, one of most frequent answers is 'I love living in this city, because only here I have all the venues, restaurants, museums shops nearby.' In this project we focus on the availability of such venues in urban neighborhoods."
   ]
  },
  {
   "cell_type": "markdown",
   "metadata": {},
   "source": [
    "### Business Problem"
   ]
  },
  {
   "cell_type": "markdown",
   "metadata": {},
   "source": [
    "In this project we aim to support you, the urban development team of the neighborhoods of Downtown Toronto, in deciding which venues you should attract in order to become attractive to people who consider Manhattan in New York attractive."
   ]
  },
  {
   "cell_type": "markdown",
   "metadata": {},
   "source": [
    "We have read that the population of Downtown Toronto is expected to grow from about 250,000 in 2016 to about 475,000 people in 2041. With that growth the geographic population density of Downtown Toronto will become increasingly similar to that of Manhattan. As all basic infrastructure is in place, we consider the quality of life in Downtown Toronto an essential building block in attracting the right mix of people, talent and companies to ensure a sustainable economical, intellectual and social growth for Downtown Toronto.  "
   ]
  },
  {
   "cell_type": "markdown",
   "metadata": {},
   "source": [
    "The project is part of a larger assessment of factors that determine the perceived quality of life in Downtown Toronto. The comparative quantitative analysis of venues in Downtown Toronto with those in Manhattan will provide insights, which complement insights from other projects to inform a comprehensive development strategy for Downtown Toronto."
   ]
  },
  {
   "cell_type": "markdown",
   "metadata": {},
   "source": [
    "This quantitative assement relies on location data retrieved from Foursquare. This data shows the geographic distribution of venues like restaurants, shops, museums and many other. "
   ]
  },
  {
   "cell_type": "markdown",
   "metadata": {},
   "source": [
    "We will follow the following methodology.\n",
    "1. Retrieving and cleaning the publicly available geospatial data and venue data from FourSquare\n",
    "2. Exploring the data, including map visualizations\n",
    "3. Cluster analysis using a combined dataset of neighborhoods and venues in Downtown Toronto and Manhattan\n",
    "4. Discussion of the results the cluster analysis and identification of a field of special interest for further statistical analysis\n",
    "5. Statistical analysis of this field of special interest\n",
    "6. Discussion of final results\n",
    "7. Conclusions and recommendations"
   ]
  },
  {
   "cell_type": "markdown",
   "metadata": {},
   "source": [
    "A full report will provide further detail on data sources and methodology and the results, their discussion and conclusions. An executive summary will be provided in presentation format."
   ]
  },
  {
   "cell_type": "code",
   "execution_count": null,
   "metadata": {},
   "outputs": [],
   "source": []
  }
 ],
 "metadata": {
  "kernelspec": {
   "display_name": "Python 3",
   "language": "python",
   "name": "python3"
  },
  "language_info": {
   "codemirror_mode": {
    "name": "ipython",
    "version": 3
   },
   "file_extension": ".py",
   "mimetype": "text/x-python",
   "name": "python",
   "nbconvert_exporter": "python",
   "pygments_lexer": "ipython3",
   "version": "3.7.4"
  }
 },
 "nbformat": 4,
 "nbformat_minor": 2
}
